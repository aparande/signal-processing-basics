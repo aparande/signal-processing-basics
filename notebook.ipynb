{
 "cells": [
  {
   "cell_type": "markdown",
   "id": "removable-rating",
   "metadata": {},
   "source": [
    "# Basics of Signal Processing\n",
    "**Authors**: Anmol Parande, Hoang Nguyen, Jordan Grelling"
   ]
  },
  {
   "cell_type": "code",
   "execution_count": null,
   "id": "certified-cookbook",
   "metadata": {},
   "outputs": [],
   "source": [
    "import numpy as np\n",
    "import scipy\n",
    "import matplotlib.pyplot as plt"
   ]
  },
  {
   "cell_type": "markdown",
   "id": "swedish-asset",
   "metadata": {},
   "source": [
    "# I. DFT"
   ]
  },
  {
   "cell_type": "markdown",
   "id": "shaped-cholesterol",
   "metadata": {},
   "source": [
    "## I.a PSD"
   ]
  },
  {
   "cell_type": "markdown",
   "id": "talented-tamil",
   "metadata": {},
   "source": [
    "## I.b Windowing"
   ]
  },
  {
   "cell_type": "markdown",
   "id": "related-exploration",
   "metadata": {},
   "source": [
    "## I.c Blackman-Tukey"
   ]
  },
  {
   "cell_type": "markdown",
   "id": "surprised-capability",
   "metadata": {},
   "source": [
    "# II. Sampling Theory"
   ]
  },
  {
   "cell_type": "markdown",
   "id": "fuzzy-proportion",
   "metadata": {},
   "source": [
    "## II.a Aliasing"
   ]
  },
  {
   "cell_type": "markdown",
   "id": "tender-vertical",
   "metadata": {},
   "source": [
    "# III. Filtering"
   ]
  },
  {
   "cell_type": "markdown",
   "id": "fuzzy-steam",
   "metadata": {},
   "source": [
    "## III.a Filtering in the Time Domain"
   ]
  },
  {
   "cell_type": "markdown",
   "id": "adjacent-calvin",
   "metadata": {},
   "source": [
    "## III.b Filtering in the Frequency Domain"
   ]
  },
  {
   "cell_type": "markdown",
   "id": "promotional-morris",
   "metadata": {},
   "source": [
    "# IV. Spectral Analysis"
   ]
  },
  {
   "cell_type": "markdown",
   "id": "arbitrary-plumbing",
   "metadata": {},
   "source": [
    "## IV.a STFT"
   ]
  },
  {
   "cell_type": "markdown",
   "id": "introductory-breathing",
   "metadata": {},
   "source": [
    "## IV.b Tradeoffs of the STFT"
   ]
  },
  {
   "cell_type": "markdown",
   "id": "domestic-appearance",
   "metadata": {},
   "source": [
    "# Resources\n",
    "\n",
    "1. [Anmol's Course Notes from EE120 (Signals and Systems)](https://aparande.gitbook.io/berkeley-notes/ee120-0)\n",
    "2. [Anmol's Course Notes from EE123 (Digital Signal ](https://aparande.gitbook.io/berkeley-notes/ee123-0)"
   ]
  },
  {
   "cell_type": "code",
   "execution_count": null,
   "id": "certain-offering",
   "metadata": {},
   "outputs": [],
   "source": []
  }
 ],
 "metadata": {
  "kernelspec": {
   "display_name": "Python 3",
   "language": "python",
   "name": "python3"
  },
  "language_info": {
   "codemirror_mode": {
    "name": "ipython",
    "version": 3
   },
   "file_extension": ".py",
   "mimetype": "text/x-python",
   "name": "python",
   "nbconvert_exporter": "python",
   "pygments_lexer": "ipython3",
   "version": "3.7.11"
  }
 },
 "nbformat": 4,
 "nbformat_minor": 5
}
